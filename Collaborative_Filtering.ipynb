{
 "cells": [
  {
   "cell_type": "code",
   "execution_count": 249,
   "id": "7843e1be",
   "metadata": {},
   "outputs": [],
   "source": [
    "# lib\n",
    "import numpy as np\n",
    "import pandas as pd\n",
    "\n",
    "from surprise import Dataset, Reader\n",
    "from surprise.prediction_algorithms.matrix_factorization import SVD\n",
    "from surprise.prediction_algorithms.knns import KNNBasic"
   ]
  },
  {
   "cell_type": "code",
   "execution_count": 250,
   "id": "94a70f10-5b1f-4a24-a789-ee9c51015a65",
   "metadata": {},
   "outputs": [
    {
     "name": "stderr",
     "output_type": "stream",
     "text": [
      "C:\\Users\\yi_ch\\AppData\\Local\\Temp\\ipykernel_3636\\488603508.py:2: DtypeWarning: Columns (10) have mixed types. Specify dtype option on import or set low_memory=False.\n",
      "  movies_metadata = pd.read_csv('data/Movie/movies_metadata.csv')\n"
     ]
    }
   ],
   "source": [
    "# load dataset\n",
    "movies_metadata = pd.read_csv('data/Movie/movies_metadata.csv')\n",
    "ratings = pd.read_csv('data/Movie/ratings_small.csv')"
   ]
  },
  {
   "cell_type": "code",
   "execution_count": 251,
   "id": "2971e959-4764-4148-9e01-cafe3b15fae6",
   "metadata": {},
   "outputs": [
    {
     "name": "stdout",
     "output_type": "stream",
     "text": [
      "(45450, 24) (100004, 4)\n"
     ]
    }
   ],
   "source": [
    "# Data Preprocessing and Cleaning\n",
    "movies_metadata = movies_metadata[movies_metadata['id'].str.isnumeric()]\n",
    "movies_metadata = movies_metadata.drop_duplicates()\n",
    "movies_metadata['id'] = pd.to_numeric(movies_metadata['id'], errors='coerce')\n",
    "\n",
    "ratings['movieId'] = pd.to_numeric(ratings['movieId'], errors='coerce')\n",
    "\n",
    "# Drop NaN values\n",
    "movies_metadata.dropna(subset=['id'], inplace=True)\n",
    "ratings.dropna(subset=['movieId'], inplace=True)\n",
    "\n",
    "# Check\n",
    "print(movies_metadata.shape, ratings.shape)"
   ]
  },
  {
   "cell_type": "code",
   "execution_count": 252,
   "id": "c948e2d4-9659-4644-9a05-32b4baa58a5c",
   "metadata": {},
   "outputs": [
    {
     "data": {
      "text/html": [
       "<div>\n",
       "<style scoped>\n",
       "    .dataframe tbody tr th:only-of-type {\n",
       "        vertical-align: middle;\n",
       "    }\n",
       "\n",
       "    .dataframe tbody tr th {\n",
       "        vertical-align: top;\n",
       "    }\n",
       "\n",
       "    .dataframe thead th {\n",
       "        text-align: right;\n",
       "    }\n",
       "</style>\n",
       "<table border=\"1\" class=\"dataframe\">\n",
       "  <thead>\n",
       "    <tr style=\"text-align: right;\">\n",
       "      <th></th>\n",
       "      <th>userId</th>\n",
       "      <th>movieId</th>\n",
       "      <th>rating</th>\n",
       "      <th>timestamp</th>\n",
       "    </tr>\n",
       "  </thead>\n",
       "  <tbody>\n",
       "    <tr>\n",
       "      <th>0</th>\n",
       "      <td>1</td>\n",
       "      <td>1371</td>\n",
       "      <td>2.5</td>\n",
       "      <td>1260759135</td>\n",
       "    </tr>\n",
       "    <tr>\n",
       "      <th>1</th>\n",
       "      <td>1</td>\n",
       "      <td>2105</td>\n",
       "      <td>4.0</td>\n",
       "      <td>1260759139</td>\n",
       "    </tr>\n",
       "    <tr>\n",
       "      <th>2</th>\n",
       "      <td>1</td>\n",
       "      <td>2294</td>\n",
       "      <td>2.0</td>\n",
       "      <td>1260759108</td>\n",
       "    </tr>\n",
       "    <tr>\n",
       "      <th>3</th>\n",
       "      <td>2</td>\n",
       "      <td>17</td>\n",
       "      <td>5.0</td>\n",
       "      <td>835355681</td>\n",
       "    </tr>\n",
       "    <tr>\n",
       "      <th>4</th>\n",
       "      <td>2</td>\n",
       "      <td>62</td>\n",
       "      <td>3.0</td>\n",
       "      <td>835355749</td>\n",
       "    </tr>\n",
       "  </tbody>\n",
       "</table>\n",
       "</div>"
      ],
      "text/plain": [
       "   userId  movieId  rating   timestamp\n",
       "0       1     1371     2.5  1260759135\n",
       "1       1     2105     4.0  1260759139\n",
       "2       1     2294     2.0  1260759108\n",
       "3       2       17     5.0   835355681\n",
       "4       2       62     3.0   835355749"
      ]
     },
     "execution_count": 252,
     "metadata": {},
     "output_type": "execute_result"
    }
   ],
   "source": [
    "# To ensure the quality of recommendation\n",
    "# we select movies with votes more than 50\n",
    "movie_md = movies_metadata[movies_metadata['vote_count'] > 50][['id', 'title']]\n",
    "\n",
    "# ID\n",
    "movie_ids = [int(x) for x in movie_md['id'].values]\n",
    "\n",
    "# Select ratings of movies with more than 50 counts\n",
    "ratings = ratings[ratings['movieId'].isin(movie_ids)]\n",
    "\n",
    "# Reset Index\n",
    "ratings.reset_index(inplace=True, drop=True)\n",
    "\n",
    "# Check\n",
    "ratings.head(5)"
   ]
  },
  {
   "cell_type": "code",
   "execution_count": 253,
   "id": "58d4fe5b-f6bc-4f1f-9723-ed95a12ee989",
   "metadata": {},
   "outputs": [
    {
     "data": {
      "text/html": [
       "<div>\n",
       "<style scoped>\n",
       "    .dataframe tbody tr th:only-of-type {\n",
       "        vertical-align: middle;\n",
       "    }\n",
       "\n",
       "    .dataframe tbody tr th {\n",
       "        vertical-align: top;\n",
       "    }\n",
       "\n",
       "    .dataframe thead th {\n",
       "        text-align: right;\n",
       "    }\n",
       "</style>\n",
       "<table border=\"1\" class=\"dataframe\">\n",
       "  <thead>\n",
       "    <tr style=\"text-align: right;\">\n",
       "      <th></th>\n",
       "      <th>id</th>\n",
       "      <th>title</th>\n",
       "    </tr>\n",
       "  </thead>\n",
       "  <tbody>\n",
       "    <tr>\n",
       "      <th>0</th>\n",
       "      <td>862</td>\n",
       "      <td>Toy Story</td>\n",
       "    </tr>\n",
       "    <tr>\n",
       "      <th>1</th>\n",
       "      <td>8844</td>\n",
       "      <td>Jumanji</td>\n",
       "    </tr>\n",
       "    <tr>\n",
       "      <th>2</th>\n",
       "      <td>15602</td>\n",
       "      <td>Grumpier Old Men</td>\n",
       "    </tr>\n",
       "    <tr>\n",
       "      <th>4</th>\n",
       "      <td>11862</td>\n",
       "      <td>Father of the Bride Part II</td>\n",
       "    </tr>\n",
       "    <tr>\n",
       "      <th>5</th>\n",
       "      <td>949</td>\n",
       "      <td>Heat</td>\n",
       "    </tr>\n",
       "  </tbody>\n",
       "</table>\n",
       "</div>"
      ],
      "text/plain": [
       "      id                        title\n",
       "0    862                    Toy Story\n",
       "1   8844                      Jumanji\n",
       "2  15602             Grumpier Old Men\n",
       "4  11862  Father of the Bride Part II\n",
       "5    949                         Heat"
      ]
     },
     "execution_count": 253,
     "metadata": {},
     "output_type": "execute_result"
    }
   ],
   "source": [
    "movie_md.head(5)"
   ]
  },
  {
   "cell_type": "code",
   "execution_count": 254,
   "id": "8250408e-ab0c-4bef-8bc9-139a56d40c3b",
   "metadata": {},
   "outputs": [],
   "source": [
    "# Initialize a surprise reader object\n",
    "reader = Reader(line_format='user item rating', sep=',', rating_scale=(0,5), skip_lines=1)\n",
    "\n",
    "# Load the data\n",
    "data = Dataset.load_from_df(ratings[['userId','movieId','rating']], reader=reader)\n",
    "\n",
    "# Split the dataset into the train and test set\n",
    "trainset, testset = train_test_split(data, test_size=0.2)"
   ]
  },
  {
   "cell_type": "code",
   "execution_count": 255,
   "id": "ec00eedc-9236-44ae-b142-e0a2c32f725b",
   "metadata": {},
   "outputs": [
    {
     "data": {
      "text/plain": [
       "<surprise.prediction_algorithms.matrix_factorization.SVD at 0x2152a1c6470>"
      ]
     },
     "execution_count": 255,
     "metadata": {},
     "output_type": "execute_result"
    }
   ],
   "source": [
    "# Initialize model\n",
    "svd = SVD()\n",
    "svd.fit(trainset)"
   ]
  },
  {
   "cell_type": "code",
   "execution_count": 256,
   "id": "81d7cff5-6bd0-45e8-bd58-a35994d2892d",
   "metadata": {},
   "outputs": [],
   "source": [
    "def get_recommendations(data, movie_md, user_id, top_n, algo):\n",
    "    recommendations = []\n",
    "    \n",
    "    # creating an user-item interactions matrix\n",
    "    user_movie_interactions_matrix = data.pivot(index='userId', columns='movieId', values='rating')\n",
    "    \n",
    "    # extracting product ids which the user_id has not interacted yet\n",
    "    non_interacted_movies = user_movie_interactions_matrix.loc[user_id][user_movie_interactions_matrix.loc[user_id].isnull()].index.tolist()\n",
    "    \n",
    "    # looping through each of the product ids which user_id has not interacted yet\n",
    "    for item_id in non_interacted_movies:\n",
    "        # predicting the ratings for those non interacted product ids by this user\n",
    "        est = algo.predict(user_id, item_id).est\n",
    "        \n",
    "        # appending the predicted ratings\n",
    "        # movie_name = movies_metadata[movies_metadata['movieId']==str(item_id)]['title']\n",
    "        movie_info = movie_md[movie_md['id'] == item_id]['title']\n",
    "        movie_name = movie_info.iloc[0] if not movie_info.empty else 'Unknown Movie'\n",
    "        recommendations.append((movie_name, est))\n",
    "\n",
    "    # sorting the predicted ratings in descending order\n",
    "    recommendations.sort(key=lambda x: x[1], reverse=True)\n",
    "\n",
    "    return recommendations[:top_n] # returing top n highest predicted rating products for this user"
   ]
  },
  {
   "cell_type": "code",
   "execution_count": 257,
   "id": "107075f5-d9a9-49f2-80a8-61461d55a152",
   "metadata": {},
   "outputs": [
    {
     "data": {
      "text/plain": [
       "[('Madagascar', 4.589087958148596),\n",
       " ('Galaxy Quest', 4.552346446780332),\n",
       " ('Birdman of Alcatraz', 4.548389244120531),\n",
       " ('Mission: Impossible', 4.524467166267829),\n",
       " ('Terminator 3: Rise of the Machines', 4.5139128395751715),\n",
       " ('Laura', 4.484267840947472),\n",
       " ('Men in Black II', 4.480676826628095),\n",
       " ('Terminator Salvation', 4.476362915175064),\n",
       " ('Irma la Douce', 4.475360866724564),\n",
       " ('Once Were Warriors', 4.472349017507658)]"
      ]
     },
     "execution_count": 257,
     "metadata": {},
     "output_type": "execute_result"
    }
   ],
   "source": [
    "get_recommendations(data=ratings, movie_md=movies_metadata, user_id=5, top_n=10, algo=svd)"
   ]
  },
  {
   "cell_type": "markdown",
   "id": "547c632b-3757-4218-9513-87a77f2f1593",
   "metadata": {},
   "source": [
    "### User-Based"
   ]
  },
  {
   "cell_type": "code",
   "execution_count": 258,
   "id": "91120934-1603-40ec-bbb0-7ec48166002b",
   "metadata": {},
   "outputs": [
    {
     "data": {
      "text/plain": [
       "<surprise.prediction_algorithms.knns.KNNBasic at 0x2152a1c7490>"
      ]
     },
     "execution_count": 258,
     "metadata": {},
     "output_type": "execute_result"
    }
   ],
   "source": [
    "sim_options = {'name': 'cosine',\n",
    "               'user_based': True}\n",
    "\n",
    "# KNN algorithm to find similar items\n",
    "sim_user = KNNBasic(sim_options=sim_options, verbose=False, random_state=50)\n",
    "\n",
    "# Train on the trainset, and predict ratings for the testset\n",
    "sim_user.fit(trainset)"
   ]
  },
  {
   "cell_type": "code",
   "execution_count": 259,
   "id": "6fb40da3-202f-4441-a0cd-b91eaae5a9dd",
   "metadata": {},
   "outputs": [
    {
     "data": {
      "text/plain": [
       "[('Rio Bravo', 5),\n",
       " ('The Celebration', 5),\n",
       " ('Grease', 5),\n",
       " ('A Streetcar Named Desire', 5),\n",
       " ('The Evil Dead', 5),\n",
       " ('Strangers on a Train', 5),\n",
       " (\"Singin' in the Rain\", 5),\n",
       " ('The General', 5),\n",
       " ('Once Upon a Time in Mexico', 5),\n",
       " ('Captain America: The First Avenger', 5)]"
      ]
     },
     "execution_count": 259,
     "metadata": {},
     "output_type": "execute_result"
    }
   ],
   "source": [
    "get_recommendations(ratings, movie_md, 10, 10, sim_user)"
   ]
  },
  {
   "cell_type": "code",
   "execution_count": 260,
   "id": "9087dd5a-b26b-4b5a-abac-2d46abc21d6e",
   "metadata": {},
   "outputs": [
    {
     "name": "stdout",
     "output_type": "stream",
     "text": [
      "RMSE: 0.9673\n"
     ]
    }
   ],
   "source": [
    "predictions_user_based = sim_user.test(testset)\n",
    "rmse_user_based = accuracy.rmse(predictions_user_based)"
   ]
  },
  {
   "cell_type": "markdown",
   "id": "f2ed8121-84b8-42b9-9e2c-089ff9508ce6",
   "metadata": {},
   "source": [
    "### Item-Based"
   ]
  },
  {
   "cell_type": "code",
   "execution_count": 261,
   "id": "76c6a5e3-70b4-4137-9269-48de3ccb5f2e",
   "metadata": {},
   "outputs": [
    {
     "data": {
      "text/plain": [
       "<surprise.prediction_algorithms.knns.KNNBasic at 0x2152a1c6260>"
      ]
     },
     "execution_count": 261,
     "metadata": {},
     "output_type": "execute_result"
    }
   ],
   "source": [
    "sim_options = {'name': 'cosine',\n",
    "               'user_based': False}\n",
    "\n",
    "# KNN algorithm to find similar items\n",
    "sim_item = KNNBasic(sim_options=sim_options, verbose=False, random_state=50)\n",
    "\n",
    "# Train on the trainset, and predict ratings for the testset\n",
    "sim_item.fit(trainset)"
   ]
  },
  {
   "cell_type": "code",
   "execution_count": 262,
   "id": "daaf102f-f3a0-4b18-8f09-e8adaf556a9a",
   "metadata": {},
   "outputs": [
    {
     "data": {
      "text/plain": [
       "[('A History of Violence', 5),\n",
       " ('Star Trek: Insurrection', 5),\n",
       " ('Scoop', 5),\n",
       " ('The Running Man', 5),\n",
       " ('Fear and Loathing in Las Vegas', 5),\n",
       " ('In Good Company', 5),\n",
       " ('Identity', 5),\n",
       " ('The Man Who Knew Too Much', 5),\n",
       " ('American Wedding', 5),\n",
       " ('Taking Woodstock', 5)]"
      ]
     },
     "execution_count": 262,
     "metadata": {},
     "output_type": "execute_result"
    }
   ],
   "source": [
    "get_recommendations(ratings, movie_md, 10, 10, sim_item)"
   ]
  },
  {
   "cell_type": "code",
   "execution_count": 263,
   "id": "9b084796-8f7a-43e2-94a3-b3d698c0f191",
   "metadata": {},
   "outputs": [
    {
     "name": "stdout",
     "output_type": "stream",
     "text": [
      "RMSE: 0.9906\n"
     ]
    }
   ],
   "source": [
    "predictions_item_based = sim_item.test(testset)\n",
    "rmse_item_based = accuracy.rmse(predictions_item_based)"
   ]
  }
 ],
 "metadata": {
  "kernelspec": {
   "display_name": "Python 3 (ipykernel)",
   "language": "python",
   "name": "python3"
  },
  "language_info": {
   "codemirror_mode": {
    "name": "ipython",
    "version": 3
   },
   "file_extension": ".py",
   "mimetype": "text/x-python",
   "name": "python",
   "nbconvert_exporter": "python",
   "pygments_lexer": "ipython3",
   "version": "3.10.13"
  }
 },
 "nbformat": 4,
 "nbformat_minor": 5
}
