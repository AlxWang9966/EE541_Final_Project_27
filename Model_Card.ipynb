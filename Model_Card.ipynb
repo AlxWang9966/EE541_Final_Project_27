{
 "cells": [
  {
   "cell_type": "markdown",
   "id": "d138ba82-dcb4-47fd-88dc-82483fc3ea2b",
   "metadata": {},
   "source": [
    "\n",
    "# Model Card for Recommendation Systems\n",
    "\n",
    "## 1. Model Details\n",
    "- **Model Date**: Dec.5.2023\n",
    "- **Model Type**: Collaborative Filtering & Content-Based Filtering\n",
    "- **Model Parameters**: \n",
    "  - Collaborative Filtering Model Parameters: UserId, MovieId, Ratings\n",
    "  - Content Filtering Model Parameters: id, title, genre, overview\n",
    "\n",
    "## 2. Model Use\n",
    "- **Goal of the Model**: These models are designed to recommend movies to users based on their preferences and movie characteristics.\n",
    "- **General Process**:\n",
    "  - Content Filtering: Utilizes item features to suggest similar items.\n",
    "  - Collaborative Filtering: Recommends items based on user-item interactions and similarities.\n",
    "\n",
    "## 3. Data, Performance, and Limitation\n",
    "- **Data Used**:\n",
    "  - Content Filtering: Only used \"movies_metadata.csv\".\n",
    "  - Collaborative Filtering: Used \"movies_metadata.csv\" and \"ratings_small.csv\".\n",
    "- **Model Performance**:\n",
    "  - Content Filtering: It depends on the different values of the parameters \"max_features\". \n",
    "  - Collaborative Filtering: It depends on the predicting accuracy.\n",
    "- **Limitation of the Model**:\n",
    "  - The model's limitations include a focus on user-based predictions, making it less effective for movie ID inputs, and challenges in evaluation metrics due to its unsupervised learning approach, partially addressed by adjusting the TF-IDF algorithm's \"max_features\" parameter.\n"
   ]
  }
 ],
 "metadata": {
  "kernelspec": {
   "display_name": "Python 3 (ipykernel)",
   "language": "python",
   "name": "python3"
  },
  "language_info": {
   "codemirror_mode": {
    "name": "ipython",
    "version": 3
   },
   "file_extension": ".py",
   "mimetype": "text/x-python",
   "name": "python",
   "nbconvert_exporter": "python",
   "pygments_lexer": "ipython3",
   "version": "3.10.13"
  }
 },
 "nbformat": 4,
 "nbformat_minor": 5
}
